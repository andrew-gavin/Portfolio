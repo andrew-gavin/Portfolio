{
 "cells": [
  {
   "cell_type": "markdown",
   "id": "1a0a347b",
   "metadata": {},
   "source": [
    "# Analysis of NHL Data\n",
    " ## *Question: Is there a correlation between the population of the city the team is from and how many games they win?*"
   ]
  },
  {
   "cell_type": "code",
   "execution_count": 1,
   "id": "7a166b75",
   "metadata": {},
   "outputs": [],
   "source": [
    "# Import usual libraries\n",
    "import pandas as pd\n",
    "import numpy as np\n",
    "import scipy.stats as stats\n",
    "import re\n",
    "\n",
    "#Read and clean the city data\n",
    "\n",
    "nhl_df=pd.read_csv(\"nhl.csv\")\n",
    "\n",
    "cities=pd.read_html('wikipedia_data.html')[1]\n",
    "cities=cities.iloc[:-1,[0,3,5,6,7,8]]\n",
    "\n",
    "cities = cities.drop(['NFL','MLB','NBA'], axis = 1)\n",
    "\n",
    "cities.replace('(\\[)(\\w)*(\\s)(\\d)*(\\])', '', regex = True, inplace = True)\n",
    "\n",
    "cities.replace('—', np.nan, inplace = True)\n",
    "\n",
    "cities.replace('', np.nan, inplace = True)\n",
    "\n",
    "cities=cities.dropna()\n",
    "cities = cities.rename(columns = {'NHL':'team','Population (2016 est.)[8]':'Population' })"
   ]
  },
  {
   "cell_type": "code",
   "execution_count": 2,
   "id": "b7305fe2",
   "metadata": {},
   "outputs": [],
   "source": [
    "#Read and clean the NHL data\n",
    "\n",
    "nhl_df_mask =nhl_df['year'] == 2018\n",
    "nhl_df =nhl_df.where(nhl_df_mask).dropna()\n",
    "nhl_df = nhl_df[['team','W','L']]\n",
    "nhl_df.drop([0,9,18,26], inplace = True)\n",
    "nhl_df.replace('(\\*)','', regex = True, inplace = True)\n",
    "nhl_df.replace('((\\w)*(\\s))+', '', regex = True, inplace = True)"
   ]
  },
  {
   "cell_type": "code",
   "execution_count": 6,
   "id": "dd5c5843",
   "metadata": {},
   "outputs": [],
   "source": [
    "#Adding in some missing data \n",
    "df = pd.DataFrame({'Metropolitan area':['New York City','New York City'],'Population':['20153634','20153634'],'team':['Islanders','Devils']})\n",
    "\n",
    "cities = cities.append(df, ignore_index = True)\n",
    "\n",
    "cities.iloc[1]['team'] = 'Kings'\n",
    "cities.iloc[0]['team'] = 'Rangers'\n",
    "\n",
    "cities.loc[len(cities.index)] = ['Los Angeles','13310447','Ducks']"
   ]
  },
  {
   "cell_type": "code",
   "execution_count": 8,
   "id": "91dd6cee",
   "metadata": {},
   "outputs": [],
   "source": [
    "# Merge data sets\n",
    "nhldata = pd.merge(cities, nhl_df, on = 'team')\n",
    "\n",
    "nhldata = nhldata.set_index('Metropolitan area')\n",
    "\n",
    "nhldata['W'] = nhldata['W'].astype(int)\n",
    "nhldata['L'] = nhldata['L'].astype(int)\n",
    "nhldata['Population'] = nhldata['Population'].astype(int)\n",
    "\n",
    "nhldata['games'] = nhldata['W'] + nhldata['L']\n",
    "nhldata['win_ratio'] = nhldata['W']/nhldata['games'] \n",
    "\n",
    "nhldata['win_ratio/population'] = nhldata['win_ratio']/nhldata['Population']\n",
    "\n",
    "nhldata.sort_values(by =['win_ratio/population'], ascending = False, inplace = True)"
   ]
  },
  {
   "cell_type": "markdown",
   "id": "f8ef4a3a",
   "metadata": {},
   "source": [
    "<!-- Is there a significant corrolation between population and win ratio -->"
   ]
  },
  {
   "cell_type": "code",
   "execution_count": 11,
   "id": "a39f4dfd",
   "metadata": {},
   "outputs": [
    {
     "data": {
      "text/plain": [
       "(-0.019431769879490496, 0.9249355293652931)"
      ]
     },
     "execution_count": 11,
     "metadata": {},
     "output_type": "execute_result"
    }
   ],
   "source": [
    "stats.pearsonr(nhldata['Population'], nhldata['win_ratio'])"
   ]
  },
  {
   "cell_type": "markdown",
   "id": "44341c3c",
   "metadata": {},
   "source": [
    "### Correlation between population and win ratio is *r* = -0.02 with a *p-value* of 0.92, indicating that there is no correlation in win ratio and population in NHL teams in 2018. "
   ]
  }
 ],
 "metadata": {
  "kernelspec": {
   "display_name": "Python 3",
   "language": "python",
   "name": "python3"
  },
  "language_info": {
   "codemirror_mode": {
    "name": "ipython",
    "version": 3
   },
   "file_extension": ".py",
   "mimetype": "text/x-python",
   "name": "python",
   "nbconvert_exporter": "python",
   "pygments_lexer": "ipython3",
   "version": "3.8.8"
  }
 },
 "nbformat": 4,
 "nbformat_minor": 5
}
